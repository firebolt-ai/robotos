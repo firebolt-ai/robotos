{
 "cells": [
  {
   "cell_type": "markdown",
   "metadata": {},
   "source": [
    "# &copy; Copyright 2019 - Present Firebolt, Inc. All Rights Reserved.\n",
    "## Robot Algorithm - Search\n",
    "### Lab Problem Statement\n",
    "A child is lost in a park. She wants to find her mother. Using ```Mesa```, write the algorithm that wild allow the child to find the mother.\n",
    "\n",
    "### 1. Installing & Importing Modules"
   ]
  },
  {
   "cell_type": "code",
   "execution_count": 3,
   "metadata": {
    "scrolled": true
   },
   "outputs": [
    {
     "name": "stdout",
     "output_type": "stream",
     "text": [
      "Looking in indexes: https://pypi.org/simple, https://packagecloud.io/github/git-lfs/pypi/simple\n",
      "Requirement already satisfied: mesa==0.8.6 in /home/mattma/anaconda3/lib/python3.6/site-packages (from -r ../requirements.txt (line 1)) (0.8.6)\n",
      "Requirement already satisfied: click in /home/mattma/.local/lib/python3.6/site-packages (from mesa==0.8.6->-r ../requirements.txt (line 1)) (7.0)\n",
      "Requirement already satisfied: pandas in /home/mattma/.local/lib/python3.6/site-packages (from mesa==0.8.6->-r ../requirements.txt (line 1)) (0.24.2)\n",
      "Requirement already satisfied: numpy in /home/mattma/.local/lib/python3.6/site-packages (from mesa==0.8.6->-r ../requirements.txt (line 1)) (1.16.3)\n",
      "Requirement already satisfied: cookiecutter in /home/mattma/anaconda3/lib/python3.6/site-packages (from mesa==0.8.6->-r ../requirements.txt (line 1)) (1.6.0)\n",
      "Requirement already satisfied: tqdm in /home/mattma/.local/lib/python3.6/site-packages (from mesa==0.8.6->-r ../requirements.txt (line 1)) (4.31.1)\n",
      "Requirement already satisfied: tornado in /home/mattma/.local/lib/python3.6/site-packages (from mesa==0.8.6->-r ../requirements.txt (line 1)) (6.0.1)\n",
      "Requirement already satisfied: networkx in /home/mattma/.local/lib/python3.6/site-packages (from mesa==0.8.6->-r ../requirements.txt (line 1)) (2.2)\n",
      "Requirement already satisfied: python-dateutil>=2.5.0 in /home/mattma/.local/lib/python3.6/site-packages (from pandas->mesa==0.8.6->-r ../requirements.txt (line 1)) (2.8.0)\n",
      "Requirement already satisfied: pytz>=2011k in /home/mattma/.local/lib/python3.6/site-packages (from pandas->mesa==0.8.6->-r ../requirements.txt (line 1)) (2018.9)\n",
      "Requirement already satisfied: jinja2-time>=0.1.0 in /home/mattma/anaconda3/lib/python3.6/site-packages (from cookiecutter->mesa==0.8.6->-r ../requirements.txt (line 1)) (0.2.0)\n",
      "Requirement already satisfied: jinja2>=2.7 in /home/mattma/.local/lib/python3.6/site-packages (from cookiecutter->mesa==0.8.6->-r ../requirements.txt (line 1)) (2.10.1)\n",
      "Requirement already satisfied: future>=0.15.2 in /home/mattma/.local/lib/python3.6/site-packages (from cookiecutter->mesa==0.8.6->-r ../requirements.txt (line 1)) (0.17.1)\n",
      "Requirement already satisfied: requests>=2.18.0 in /home/mattma/.local/lib/python3.6/site-packages (from cookiecutter->mesa==0.8.6->-r ../requirements.txt (line 1)) (2.21.0)\n",
      "Requirement already satisfied: binaryornot>=0.2.0 in /home/mattma/anaconda3/lib/python3.6/site-packages (from cookiecutter->mesa==0.8.6->-r ../requirements.txt (line 1)) (0.4.4)\n",
      "Requirement already satisfied: poyo>=0.1.0 in /home/mattma/anaconda3/lib/python3.6/site-packages (from cookiecutter->mesa==0.8.6->-r ../requirements.txt (line 1)) (0.4.2)\n",
      "Requirement already satisfied: whichcraft>=0.4.0 in /home/mattma/anaconda3/lib/python3.6/site-packages (from cookiecutter->mesa==0.8.6->-r ../requirements.txt (line 1)) (0.5.2)\n",
      "Requirement already satisfied: decorator>=4.3.0 in /home/mattma/.local/lib/python3.6/site-packages (from networkx->mesa==0.8.6->-r ../requirements.txt (line 1)) (4.4.0)\n",
      "Requirement already satisfied: six>=1.5 in /home/mattma/anaconda3/lib/python3.6/site-packages (from python-dateutil>=2.5.0->pandas->mesa==0.8.6->-r ../requirements.txt (line 1)) (1.12.0)\n",
      "Requirement already satisfied: arrow in /home/mattma/anaconda3/lib/python3.6/site-packages (from jinja2-time>=0.1.0->cookiecutter->mesa==0.8.6->-r ../requirements.txt (line 1)) (0.13.2)\n",
      "Requirement already satisfied: MarkupSafe>=0.23 in /home/mattma/.local/lib/python3.6/site-packages (from jinja2>=2.7->cookiecutter->mesa==0.8.6->-r ../requirements.txt (line 1)) (1.1.1)\n",
      "Requirement already satisfied: urllib3<1.25,>=1.21.1 in /home/mattma/.local/lib/python3.6/site-packages (from requests>=2.18.0->cookiecutter->mesa==0.8.6->-r ../requirements.txt (line 1)) (1.24.1)\n",
      "Requirement already satisfied: idna<2.9,>=2.5 in /home/mattma/.local/lib/python3.6/site-packages (from requests>=2.18.0->cookiecutter->mesa==0.8.6->-r ../requirements.txt (line 1)) (2.8)\n",
      "Requirement already satisfied: chardet<3.1.0,>=3.0.2 in /home/mattma/.local/lib/python3.6/site-packages (from requests>=2.18.0->cookiecutter->mesa==0.8.6->-r ../requirements.txt (line 1)) (3.0.4)\n",
      "Requirement already satisfied: certifi>=2017.4.17 in /home/mattma/.local/lib/python3.6/site-packages (from requests>=2.18.0->cookiecutter->mesa==0.8.6->-r ../requirements.txt (line 1)) (2019.3.9)\n"
     ]
    }
   ],
   "source": [
    "!pip3 install -r ../requirements.txt # Install Mesa & other packages"
   ]
  },
  {
   "cell_type": "code",
   "execution_count": 9,
   "metadata": {},
   "outputs": [],
   "source": [
    "from mesa import Model, Agent\n",
    "from mesa.time import BaseScheduler\n",
    "from mesa.space import MultiGrid\n",
    "import random\n",
    "import numpy as np\n",
    "import matplotlib.pyplot as plt\n",
    "%matplotlib inline"
   ]
  },
  {
   "cell_type": "markdown",
   "metadata": {},
   "source": [
    "### 2. Create the classes."
   ]
  },
  {
   "cell_type": "code",
   "execution_count": 10,
   "metadata": {},
   "outputs": [],
   "source": [
    "class Mother(Agent):\n",
    "    def __init__(self, unique_id):self.unique_id = unique_id\n",
    "    def step(self, model):self.move(model)\n",
    "    def move(self, model):\n",
    "        grid = model.grid\n",
    "        x, y = self.pos\n",
    "        possible_steps = grid.get_neighborhood((x, y), moore=True, include_center=True)\n",
    "        choice = random.choice(possible_steps)\n",
    "        grid.move_agent(self, choice)\n",
    "class Child(Agent):\n",
    "    def __init__(self, unique_id, mother):\n",
    "        self.unique_id = unique_id\n",
    "        self.mother = mother\n",
    "    def step(self, model):self.move(model) \n",
    "    def move(self, model):\n",
    "        x, y = self.pos\n",
    "        mX, mY = self.mother.pos\n",
    "        dX = x-mX; dY = y-mY\n",
    "        vX = 0; vY = 0;\n",
    "        if abs(dX) > 0:vX = dX/abs(dX)\n",
    "        if abs(dY) > 0:vY = dY/abs(dY)\n",
    "        newX = round(x - vX); newY = round(y - vY)\n",
    "        model.grid.move_agent(self, (newX, newY))"
   ]
  },
  {
   "cell_type": "markdown",
   "metadata": {},
   "source": [
    "### 3. Testing"
   ]
  },
  {
   "cell_type": "code",
   "execution_count": 12,
   "metadata": {},
   "outputs": [],
   "source": [
    "class Evaluator(Model):\n",
    "    def __init__(self, width, height, torus):\n",
    "        self.grid = MultiGrid(height, width, torus)\n",
    "        self.schedule = BaseScheduler(self)\n",
    "        self.create_agents()\n",
    "        \n",
    "    def create_agents(self):\n",
    "        m = Mother(1)\n",
    "        self.schedule.add(m)\n",
    "        self.grid.place_agent(m, (5, 5))\n",
    "        c = Child(2, m)\n",
    "        self.schedule.add(c)\n",
    "        self.grid.place_agent(c, (1, 0))\n",
    "    def step(self):self.schedule.step()\n",
    "    def run_model(self, steps):\n",
    "        for i in range(steps):self.step()"
   ]
  },
  {
   "cell_type": "code",
   "execution_count": 13,
   "metadata": {},
   "outputs": [],
   "source": [
    "def print_the_grid(model):\n",
    "    follow_grid = np.zeros((follow_model.grid.width, follow_model.grid.height))\n",
    "    for cell in follow_model.grid.coord_iter():\n",
    "        cell_content, x, y = cell\n",
    "        for i,a in enumerate(cell_content):\n",
    "            follow_grid[y][x] += a.unique_id\n",
    "    plt.imshow(follow_grid, interpolation='nearest')\n",
    "    plt.grid(True)\n",
    "    plt.show()"
   ]
  },
  {
   "cell_type": "code",
   "execution_count": null,
   "metadata": {},
   "outputs": [],
   "source": [
    "follow_model = FollowModel(width=10, height=10, torus=False)\n",
    "print_the_grid(follow_model)\n",
    "for i in range(10):\n",
    "    follow_model.run_model(1)\n",
    "    print_the_grid(follow_model)"
   ]
  },
  {
   "cell_type": "markdown",
   "metadata": {},
   "source": [
    "# &copy; Copyright 2019 - Present Firebolt, Inc. All Rights Reserved."
   ]
  }
 ],
 "metadata": {
  "kernelspec": {
   "display_name": "Python 3",
   "language": "python",
   "name": "python3"
  },
  "language_info": {
   "codemirror_mode": {
    "name": "ipython",
    "version": 3
   },
   "file_extension": ".py",
   "mimetype": "text/x-python",
   "name": "python",
   "nbconvert_exporter": "python",
   "pygments_lexer": "ipython3",
   "version": "3.6.8"
  }
 },
 "nbformat": 4,
 "nbformat_minor": 2
}
